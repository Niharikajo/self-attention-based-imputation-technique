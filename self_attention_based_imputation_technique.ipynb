{
  "nbformat": 4,
  "nbformat_minor": 0,
  "metadata": {
    "colab": {
      "name": "self-attention-based-imputation-technique.ipynb",
      "provenance": [],
      "collapsed_sections": [],
      "mount_file_id": "1QSQ70DDeuKo0cKzIP6YOF7Hl8BBpsnyL",
      "authorship_tag": "ABX9TyNBkB6zzESun9xZMwGxekA3",
      "include_colab_link": true
    },
    "kernelspec": {
      "name": "python3",
      "display_name": "Python 3"
    },
    "language_info": {
      "name": "python"
    },
    "accelerator": "GPU"
  },
  "cells": [
    {
      "cell_type": "markdown",
      "metadata": {
        "id": "view-in-github",
        "colab_type": "text"
      },
      "source": [
        "<a href=\"https://colab.research.google.com/github/Niharikajo/self-attention-based-imputation-technique/blob/main/self_attention_based_imputation_technique.ipynb\" target=\"_parent\"><img src=\"https://colab.research.google.com/assets/colab-badge.svg\" alt=\"Open In Colab\"/></a>"
      ]
    },
    {
      "cell_type": "markdown",
      "source": [
        " Self Attention Based Imputation Technique"
      ],
      "metadata": {
        "id": "hoOPFQuZ6sw_"
      }
    },
    {
      "cell_type": "markdown",
      "source": [
        "Mounting Drive"
      ],
      "metadata": {
        "id": "sPQh9jcL62p2"
      }
    },
    {
      "cell_type": "code",
      "source": [
        "from google.colab import drive\n",
        "drive.mount('/content/drive')"
      ],
      "metadata": {
        "id": "Xn9GA4Am6Nyk"
      },
      "execution_count": null,
      "outputs": []
    },
    {
      "cell_type": "markdown",
      "source": [
        "Install missing packages"
      ],
      "metadata": {
        "id": "F4JEiDgr5Wwc"
      }
    },
    {
      "cell_type": "code",
      "source": [
        "!pip install nni"
      ],
      "metadata": {
        "id": "UDRgIlQLUK5T",
        "colab": {
          "base_uri": "https://localhost:8080/"
        },
        "outputId": "41e20dbf-f462-4d55-90c8-4dfcff0ec97b"
      },
      "execution_count": 11,
      "outputs": [
        {
          "output_type": "stream",
          "name": "stdout",
          "text": [
            "Requirement already satisfied: nni in /usr/local/lib/python3.7/dist-packages (2.6.1)\n",
            "Requirement already satisfied: cloudpickle in /usr/local/lib/python3.7/dist-packages (from nni) (1.3.0)\n",
            "Requirement already satisfied: astor in /usr/local/lib/python3.7/dist-packages (from nni) (0.8.1)\n",
            "Requirement already satisfied: prettytable in /usr/local/lib/python3.7/dist-packages (from nni) (3.2.0)\n",
            "Requirement already satisfied: schema in /usr/local/lib/python3.7/dist-packages (from nni) (0.7.5)\n",
            "Requirement already satisfied: websockets>=10.1 in /usr/local/lib/python3.7/dist-packages (from nni) (10.2)\n",
            "Requirement already satisfied: filelock in /usr/local/lib/python3.7/dist-packages (from nni) (3.6.0)\n",
            "Requirement already satisfied: responses in /usr/local/lib/python3.7/dist-packages (from nni) (0.20.0)\n",
            "Requirement already satisfied: hyperopt==0.1.2 in /usr/local/lib/python3.7/dist-packages (from nni) (0.1.2)\n",
            "Requirement already satisfied: typing-extensions in /usr/local/lib/python3.7/dist-packages (from nni) (3.10.0.2)\n",
            "Requirement already satisfied: pandas in /usr/local/lib/python3.7/dist-packages (from nni) (1.3.5)\n",
            "Requirement already satisfied: colorama in /usr/local/lib/python3.7/dist-packages (from nni) (0.4.4)\n",
            "Requirement already satisfied: numpy in /usr/local/lib/python3.7/dist-packages (from nni) (1.21.5)\n",
            "Requirement already satisfied: psutil in /usr/local/lib/python3.7/dist-packages (from nni) (5.4.8)\n",
            "Requirement already satisfied: pyyaml>=5.4 in /usr/local/lib/python3.7/dist-packages (from nni) (6.0)\n",
            "Requirement already satisfied: typeguard in /usr/local/lib/python3.7/dist-packages (from nni) (2.7.1)\n",
            "Requirement already satisfied: requests in /usr/local/lib/python3.7/dist-packages (from nni) (2.23.0)\n",
            "Requirement already satisfied: json-tricks>=3.15.5 in /usr/local/lib/python3.7/dist-packages (from nni) (3.15.5)\n",
            "Requirement already satisfied: PythonWebHDFS in /usr/local/lib/python3.7/dist-packages (from nni) (0.2.3)\n",
            "Requirement already satisfied: scipy in /usr/local/lib/python3.7/dist-packages (from nni) (1.4.1)\n",
            "Requirement already satisfied: scikit-learn>=0.24.1 in /usr/local/lib/python3.7/dist-packages (from nni) (1.0.2)\n",
            "Requirement already satisfied: six in /usr/local/lib/python3.7/dist-packages (from hyperopt==0.1.2->nni) (1.15.0)\n",
            "Requirement already satisfied: pymongo in /usr/local/lib/python3.7/dist-packages (from hyperopt==0.1.2->nni) (4.0.2)\n",
            "Requirement already satisfied: networkx in /usr/local/lib/python3.7/dist-packages (from hyperopt==0.1.2->nni) (2.6.3)\n",
            "Requirement already satisfied: tqdm in /usr/local/lib/python3.7/dist-packages (from hyperopt==0.1.2->nni) (4.63.0)\n",
            "Requirement already satisfied: future in /usr/local/lib/python3.7/dist-packages (from hyperopt==0.1.2->nni) (0.16.0)\n",
            "Requirement already satisfied: joblib>=0.11 in /usr/local/lib/python3.7/dist-packages (from scikit-learn>=0.24.1->nni) (1.1.0)\n",
            "Requirement already satisfied: threadpoolctl>=2.0.0 in /usr/local/lib/python3.7/dist-packages (from scikit-learn>=0.24.1->nni) (3.1.0)\n",
            "Requirement already satisfied: python-dateutil>=2.7.3 in /usr/local/lib/python3.7/dist-packages (from pandas->nni) (2.8.2)\n",
            "Requirement already satisfied: pytz>=2017.3 in /usr/local/lib/python3.7/dist-packages (from pandas->nni) (2018.9)\n",
            "Requirement already satisfied: wcwidth in /usr/local/lib/python3.7/dist-packages (from prettytable->nni) (0.2.5)\n",
            "Requirement already satisfied: importlib-metadata in /usr/local/lib/python3.7/dist-packages (from prettytable->nni) (4.11.3)\n",
            "Requirement already satisfied: zipp>=0.5 in /usr/local/lib/python3.7/dist-packages (from importlib-metadata->prettytable->nni) (3.7.0)\n",
            "Requirement already satisfied: simplejson in /usr/local/lib/python3.7/dist-packages (from PythonWebHDFS->nni) (3.17.6)\n",
            "Requirement already satisfied: chardet<4,>=3.0.2 in /usr/local/lib/python3.7/dist-packages (from requests->nni) (3.0.4)\n",
            "Requirement already satisfied: certifi>=2017.4.17 in /usr/local/lib/python3.7/dist-packages (from requests->nni) (2021.10.8)\n",
            "Requirement already satisfied: urllib3!=1.25.0,!=1.25.1,<1.26,>=1.21.1 in /usr/local/lib/python3.7/dist-packages (from requests->nni) (1.25.11)\n",
            "Requirement already satisfied: idna<3,>=2.5 in /usr/local/lib/python3.7/dist-packages (from requests->nni) (2.10)\n",
            "Requirement already satisfied: contextlib2>=0.5.5 in /usr/local/lib/python3.7/dist-packages (from schema->nni) (0.5.5)\n"
          ]
        }
      ]
    },
    {
      "cell_type": "markdown",
      "source": [
        "Change the dir to Data_Preprocessing folder"
      ],
      "metadata": {
        "id": "xJCx0JeO5nhQ"
      }
    },
    {
      "cell_type": "code",
      "source": [
        "%cd /content/drive/MyDrive/self-attention-based-imputation-technique-main/Data_Preprocessing"
      ],
      "metadata": {
        "colab": {
          "base_uri": "https://localhost:8080/"
        },
        "id": "dupi7OsZpcuJ",
        "outputId": "0b762379-536a-4629-f28b-480a1970131e"
      },
      "execution_count": 13,
      "outputs": [
        {
          "output_type": "stream",
          "name": "stdout",
          "text": [
            "/content/drive/MyDrive/SAITS_BATTERY/Data_Preprocessing\n"
          ]
        }
      ]
    },
    {
      "cell_type": "markdown",
      "source": [
        "Generating Dataset\n",
        " *  update file_path in gene_battery_dataset.py file to the selected dataset path"
      ],
      "metadata": {
        "id": "L3BF6US97Kqd"
      }
    },
    {
      "cell_type": "code",
      "source": [
        "!python gene_battery_dataset.py"
      ],
      "metadata": {
        "id": "qGV4CiDHTmPh",
        "colab": {
          "base_uri": "https://localhost:8080/"
        },
        "outputId": "27219928-a498-4ce0-b7ba-478c8f1b6878"
      },
      "execution_count": 14,
      "outputs": [
        {
          "output_type": "stream",
          "name": "stdout",
          "text": [
            "2022-04-10 14:19:03,463 - Namespace(artificial_missing_rate=0.1, dataset_name='Battery_dataset1_saits_01masked', file_path='Datasets/dataset1.csv', saving_path='../generated_datasets', seq_len=96)\n",
            "2022-04-10 14:19:04,073 - days selected as test set are PeriodIndex(['2018-06-05', '2018-06-06'], dtype='period[D]', name='Date_Time')\n",
            "2022-04-10 14:19:04,074 - days selected as val set are PeriodIndex(['2018-06-07'], dtype='period[D]', name='Date_Time')\n",
            "2022-04-10 14:19:04,074 - days selected as train set are PeriodIndex(['2018-06-08', '2018-06-09', '2018-06-10'], dtype='period[D]', name='Date_Time')\n",
            "2022-04-10 14:19:04,094 - Already masked out 10.0% values in train set\n",
            "2022-04-10 14:19:04,095 - In val set, num of artificially-masked values: 129.0\n",
            "2022-04-10 14:19:04,095 - In test set, num of artificially-masked values: 161.0\n",
            "2022-04-10 14:19:04,095 - Feature num: 2,\n",
            "23 (0.590) samples in train set\n",
            "7 (0.179) samples in val set\n",
            "9 (0.231) samples in test set\n",
            "\n",
            "2022-04-10 14:19:04,105 - All done. Saved to ../generated_datasets/Battery_dataset1_saits_01masked.\n"
          ]
        }
      ]
    },
    {
      "cell_type": "markdown",
      "source": [
        "Change the dir to self-attention-based-imputation-technique-main "
      ],
      "metadata": {
        "id": "w4p_TmTD8lmD"
      }
    },
    {
      "cell_type": "code",
      "execution_count": 15,
      "metadata": {
        "colab": {
          "base_uri": "https://localhost:8080/"
        },
        "id": "CPJjq18UpO-b",
        "outputId": "042cce88-7601-44dd-e1e4-9e99ee98653f"
      },
      "outputs": [
        {
          "output_type": "stream",
          "name": "stdout",
          "text": [
            "/content/drive/MyDrive/SAITS_BATTERY\n"
          ]
        }
      ],
      "source": [
        "%cd /content/drive/MyDrive/self-attention-based-imputation-technique-main"
      ]
    },
    {
      "cell_type": "markdown",
      "source": [
        "Model Training"
      ],
      "metadata": {
        "id": "JpwzRBmg8z2T"
      }
    },
    {
      "cell_type": "code",
      "source": [
        "!CUDA_VISIBLE_DEVICES=0 python run_models.py --config_path configs/Battery_SAITS_best.ini "
      ],
      "metadata": {
        "colab": {
          "base_uri": "https://localhost:8080/"
        },
        "id": "RVXApi9zT4q1",
        "outputId": "d314e328-47b5-4ee0-8c7f-2c9c03b55b95"
      },
      "execution_count": 16,
      "outputs": [
        {
          "output_type": "stream",
          "name": "stdout",
          "text": [
            "[2022-04-10 14:19:12] INFO (numexpr.utils/MainThread) NumExpr defaulting to 2 threads.\n",
            "2022-04-10 14:19:14,852 - args: Namespace(MIT=True, ORT=True, batch_size=128, config_path='configs/Battery_SAITS_best.ini', d_inner=128, d_k=128, d_model=1024, d_v=128, dataset_base_dir='generated_datasets', dataset_name='Battery_dataset1_saits_01masked', dataset_path='generated_datasets/Battery_dataset1_saits_01masked', device='cuda', diagonal_attention_mask=True, dropout=0.2, early_stop_patience=30, epochs=10000, eval_every_n_steps=7, feature_num=2, imputation_loss_weight=1.0, input_with_mask=True, log_saving='NIPS_results/Battery_SAITS_best_dataset4_08masked/logs', lr=0.00035924348412319816, max_norm=0.0, model_name='Battery_SAITS_best_dataset4_08masked', model_saving='NIPS_results/Battery_SAITS_best_dataset4_08masked/models/2022-04-10_T14:19:14', model_saving_strategy='best', model_type='SAITS', n_group_inner_layers=1, n_groups=1, n_head=8, num_workers=4, optimizer_type='adam', param_searching_mode=False, param_sharing_strategy='inner_group', reconstruction_loss_weight=1.0, result_saving_base_dir='NIPS_results', seq_len=96, test_mode=False, weight_decay=0.0)\n",
            "2022-04-10 14:19:14,853 - Config file path: configs/Battery_SAITS_best.ini\n",
            "2022-04-10 14:19:14,853 - Model name: Battery_SAITS_best_dataset4_08masked\n",
            "2022-04-10 14:19:15,152 - Num of total trainable params is: 8937936\n",
            "2022-04-10 14:19:19,226 - Creating adam optimizer...\n",
            "2022-04-10 14:19:19,227 - Entering training mode...\n",
            "2022-04-10 14:19:19,444 - train set len is 23, batch size is 128,so each epoch has 1 steps\n",
            "2022-04-10 14:19:24,586 - best_imputation_MAE has been updated to 0.7914838790893555\n",
            "2022-04-10 14:19:24,685 - Saved model -> NIPS_results/Battery_SAITS_best_dataset4_08masked/models/2022-04-10_T14:19:14/model_trainStep_7_valStep_1_imputationMAE_0.7915\n",
            "2022-04-10 14:19:27,520 - best_imputation_MAE has been updated to 0.6668015122413635\n",
            "2022-04-10 14:19:27,621 - Saved model -> NIPS_results/Battery_SAITS_best_dataset4_08masked/models/2022-04-10_T14:19:14/model_trainStep_14_valStep_2_imputationMAE_0.6668\n",
            "2022-04-10 14:19:30,522 - best_imputation_MAE has been updated to 0.45702967047691345\n",
            "2022-04-10 14:19:30,622 - Saved model -> NIPS_results/Battery_SAITS_best_dataset4_08masked/models/2022-04-10_T14:19:14/model_trainStep_21_valStep_3_imputationMAE_0.4570\n",
            "2022-04-10 14:19:36,453 - best_imputation_MAE has been updated to 0.41571110486984253\n",
            "2022-04-10 14:19:36,555 - Saved model -> NIPS_results/Battery_SAITS_best_dataset4_08masked/models/2022-04-10_T14:19:14/model_trainStep_35_valStep_5_imputationMAE_0.4157\n",
            "2022-04-10 14:19:39,484 - best_imputation_MAE has been updated to 0.3633778989315033\n",
            "2022-04-10 14:19:39,607 - Saved model -> NIPS_results/Battery_SAITS_best_dataset4_08masked/models/2022-04-10_T14:19:14/model_trainStep_42_valStep_6_imputationMAE_0.3634\n",
            "2022-04-10 14:19:42,511 - best_imputation_MAE has been updated to 0.25961220264434814\n",
            "2022-04-10 14:19:42,611 - Saved model -> NIPS_results/Battery_SAITS_best_dataset4_08masked/models/2022-04-10_T14:19:14/model_trainStep_49_valStep_7_imputationMAE_0.2596\n",
            "2022-04-10 14:19:45,510 - best_imputation_MAE has been updated to 0.25335946679115295\n",
            "2022-04-10 14:19:45,640 - Saved model -> NIPS_results/Battery_SAITS_best_dataset4_08masked/models/2022-04-10_T14:19:14/model_trainStep_56_valStep_8_imputationMAE_0.2534\n",
            "2022-04-10 14:19:48,554 - best_imputation_MAE has been updated to 0.25063589215278625\n",
            "2022-04-10 14:19:48,699 - Saved model -> NIPS_results/Battery_SAITS_best_dataset4_08masked/models/2022-04-10_T14:19:14/model_trainStep_63_valStep_9_imputationMAE_0.2506\n",
            "2022-04-10 14:19:51,714 - best_imputation_MAE has been updated to 0.24544383585453033\n",
            "2022-04-10 14:19:51,815 - Saved model -> NIPS_results/Battery_SAITS_best_dataset4_08masked/models/2022-04-10_T14:19:14/model_trainStep_70_valStep_10_imputationMAE_0.2454\n",
            "2022-04-10 14:19:54,747 - best_imputation_MAE has been updated to 0.20469890534877777\n",
            "2022-04-10 14:19:54,855 - Saved model -> NIPS_results/Battery_SAITS_best_dataset4_08masked/models/2022-04-10_T14:19:14/model_trainStep_77_valStep_11_imputationMAE_0.2047\n",
            "2022-04-10 14:19:57,707 - best_imputation_MAE has been updated to 0.1876223087310791\n",
            "2022-04-10 14:19:57,831 - Saved model -> NIPS_results/Battery_SAITS_best_dataset4_08masked/models/2022-04-10_T14:19:14/model_trainStep_84_valStep_12_imputationMAE_0.1876\n",
            "2022-04-10 14:20:18,062 - best_imputation_MAE has been updated to 0.1860683113336563\n",
            "2022-04-10 14:20:18,161 - Saved model -> NIPS_results/Battery_SAITS_best_dataset4_08masked/models/2022-04-10_T14:19:14/model_trainStep_133_valStep_19_imputationMAE_0.1861\n",
            "2022-04-10 14:20:40,774 - best_imputation_MAE has been updated to 0.16089238226413727\n",
            "2022-04-10 14:20:40,875 - Saved model -> NIPS_results/Battery_SAITS_best_dataset4_08masked/models/2022-04-10_T14:19:14/model_trainStep_189_valStep_27_imputationMAE_0.1609\n",
            "2022-04-10 14:20:55,128 - best_imputation_MAE has been updated to 0.1607976108789444\n",
            "2022-04-10 14:20:55,227 - Saved model -> NIPS_results/Battery_SAITS_best_dataset4_08masked/models/2022-04-10_T14:19:14/model_trainStep_224_valStep_32_imputationMAE_0.1608\n",
            "2022-04-10 14:20:58,044 - best_imputation_MAE has been updated to 0.14752033352851868\n",
            "2022-04-10 14:20:58,151 - Saved model -> NIPS_results/Battery_SAITS_best_dataset4_08masked/models/2022-04-10_T14:19:14/model_trainStep_231_valStep_33_imputationMAE_0.1475\n",
            "2022-04-10 14:21:20,864 - best_imputation_MAE has been updated to 0.14408789575099945\n",
            "2022-04-10 14:21:20,963 - Saved model -> NIPS_results/Battery_SAITS_best_dataset4_08masked/models/2022-04-10_T14:19:14/model_trainStep_287_valStep_41_imputationMAE_0.1441\n",
            "2022-04-10 14:21:40,833 - best_imputation_MAE has been updated to 0.13725689053535461\n",
            "2022-04-10 14:21:40,933 - Saved model -> NIPS_results/Battery_SAITS_best_dataset4_08masked/models/2022-04-10_T14:19:14/model_trainStep_336_valStep_48_imputationMAE_0.1373\n",
            "2022-04-10 14:21:57,978 - best_imputation_MAE has been updated to 0.1345951110124588\n",
            "2022-04-10 14:21:58,077 - Saved model -> NIPS_results/Battery_SAITS_best_dataset4_08masked/models/2022-04-10_T14:19:14/model_trainStep_378_valStep_54_imputationMAE_0.1346\n",
            "2022-04-10 14:22:00,891 - best_imputation_MAE has been updated to 0.12673337757587433\n",
            "2022-04-10 14:22:00,993 - Saved model -> NIPS_results/Battery_SAITS_best_dataset4_08masked/models/2022-04-10_T14:19:14/model_trainStep_385_valStep_55_imputationMAE_0.1267\n",
            "2022-04-10 14:22:03,890 - best_imputation_MAE has been updated to 0.12537170946598053\n",
            "2022-04-10 14:22:04,014 - Saved model -> NIPS_results/Battery_SAITS_best_dataset4_08masked/models/2022-04-10_T14:19:14/model_trainStep_392_valStep_56_imputationMAE_0.1254\n",
            "2022-04-10 14:22:06,905 - best_imputation_MAE has been updated to 0.1210709735751152\n",
            "2022-04-10 14:22:07,004 - Saved model -> NIPS_results/Battery_SAITS_best_dataset4_08masked/models/2022-04-10_T14:19:14/model_trainStep_399_valStep_57_imputationMAE_0.1211\n",
            "2022-04-10 14:22:43,861 - best_imputation_MAE has been updated to 0.11027846485376358\n",
            "2022-04-10 14:22:43,962 - Saved model -> NIPS_results/Battery_SAITS_best_dataset4_08masked/models/2022-04-10_T14:19:14/model_trainStep_490_valStep_70_imputationMAE_0.1103\n",
            "2022-04-10 14:23:06,883 - best_imputation_MAE has been updated to 0.10054890066385269\n",
            "2022-04-10 14:23:06,986 - Saved model -> NIPS_results/Battery_SAITS_best_dataset4_08masked/models/2022-04-10_T14:19:14/model_trainStep_546_valStep_78_imputationMAE_0.1005\n",
            "2022-04-10 14:24:11,941 - best_imputation_MAE has been updated to 0.08970338106155396\n",
            "2022-04-10 14:24:12,041 - Saved model -> NIPS_results/Battery_SAITS_best_dataset4_08masked/models/2022-04-10_T14:19:14/model_trainStep_707_valStep_101_imputationMAE_0.0897\n",
            "2022-04-10 14:25:39,823 - best_imputation_MAE has been updated to 0.0861310064792633\n",
            "2022-04-10 14:25:39,926 - Saved model -> NIPS_results/Battery_SAITS_best_dataset4_08masked/models/2022-04-10_T14:19:14/model_trainStep_924_valStep_132_imputationMAE_0.0861\n",
            "2022-04-10 14:25:54,182 - best_imputation_MAE has been updated to 0.08594363927841187\n",
            "2022-04-10 14:25:54,299 - Saved model -> NIPS_results/Battery_SAITS_best_dataset4_08masked/models/2022-04-10_T14:19:14/model_trainStep_959_valStep_137_imputationMAE_0.0859\n",
            "2022-04-10 14:26:33,874 - best_imputation_MAE has been updated to 0.08487255871295929\n",
            "2022-04-10 14:26:33,981 - Saved model -> NIPS_results/Battery_SAITS_best_dataset4_08masked/models/2022-04-10_T14:19:14/model_trainStep_1057_valStep_151_imputationMAE_0.0849\n",
            "2022-04-10 14:26:51,005 - best_imputation_MAE has been updated to 0.07774581015110016\n",
            "2022-04-10 14:26:51,109 - Saved model -> NIPS_results/Battery_SAITS_best_dataset4_08masked/models/2022-04-10_T14:19:14/model_trainStep_1099_valStep_157_imputationMAE_0.0777\n",
            "2022-04-10 14:28:19,000 - early_stop_patience has been exhausted, stop training now\n",
            "2022-04-10 14:28:19,001 - Early stopping worked, stop now...\n",
            "2022-04-10 14:28:19,136 - Finished all epochs. Stop training now.\n",
            "2022-04-10 14:28:19,136 - All Done.\n",
            "\u001b[0m"
          ]
        }
      ]
    },
    {
      "cell_type": "markdown",
      "source": [
        "Training Results are stored in NIPS_results \n",
        "\n",
        "Before testing:\n",
        "1.   Update the model_saving_dir in configs/Battery_SAITS_best.ini #L10 to the best saved model dir.\n",
        "2.   Change the file name to trained model file name in #L80 configs/Battery_SAITS_best.\n",
        "\n"
      ],
      "metadata": {
        "id": "vZcrmoyw9bMj"
      }
    },
    {
      "cell_type": "markdown",
      "source": [
        "Model Testing"
      ],
      "metadata": {
        "id": "PS9h_Wk7pomk"
      }
    },
    {
      "cell_type": "code",
      "source": [
        "!CUDA_VISIBLE_DEVICES=0 python run_models.py --config_path configs/Battery_SAITS_best.ini --test_mode"
      ],
      "metadata": {
        "colab": {
          "base_uri": "https://localhost:8080/"
        },
        "id": "K8j66I5SXRdE",
        "outputId": "7f9e107c-366b-4f08-bef0-e3333e0eae35"
      },
      "execution_count": 17,
      "outputs": [
        {
          "output_type": "stream",
          "name": "stdout",
          "text": [
            "[2022-04-10 14:30:46] INFO (numexpr.utils/MainThread) NumExpr defaulting to 2 threads.\n",
            "2022-04-10 14:30:48,095 - args: Namespace(MIT=True, ORT=True, batch_size=128, config_path='configs/Battery_SAITS_best.ini', d_inner=128, d_k=128, d_model=1024, d_v=128, dataset_base_dir='generated_datasets', dataset_name='Battery_dataset1_saits_01masked', dataset_path='generated_datasets/Battery_dataset1_saits_01masked', device='cuda', diagonal_attention_mask=True, dropout=0.2, early_stop_patience=30, epochs=10000, eval_every_n_steps=7, feature_num=2, imputation_loss_weight=1.0, input_with_mask=True, log_saving='NIPS_results/Battery_SAITS_best_dataset4_08masked/test_log', lr=0.00035924348412319816, max_norm=0.0, model_name='Battery_SAITS_best_dataset4_08masked', model_saving=None, model_saving_strategy='best', model_type='SAITS', n_group_inner_layers=1, n_groups=1, n_head=8, num_workers=4, optimizer_type='adam', param_searching_mode=False, param_sharing_strategy='inner_group', reconstruction_loss_weight=1.0, result_saving_base_dir='NIPS_results', seq_len=96, test_mode=True, weight_decay=0.0)\n",
            "2022-04-10 14:30:48,095 - Config file path: configs/Battery_SAITS_best.ini\n",
            "2022-04-10 14:30:48,096 - Model name: Battery_SAITS_best_dataset4_08masked\n",
            "2022-04-10 14:30:48,376 - Num of total trainable params is: 8937936\n",
            "2022-04-10 14:30:52,403 - Entering testing mode...\n",
            "2022-04-10 14:30:52,462 - Already restored model from checkpoint: /content/drive/MyDrive/SAITS_BATTERY/NIPS_results/Battery_SAITS_best_dataset4_08masked/models/2022-04-10_T14:19:14/model_trainStep_1099_valStep_157_imputationMAE_0.0777\n",
            "2022-04-10 14:30:52,466 - Start evaluating on whole test set...\n",
            "2022-04-10 14:30:52,748 - Overall performance metrics are listed as follows:\n",
            "2022-04-10 14:30:52,748 - imputation_MAE on the test set: 0.1874079406261444\n",
            "2022-04-10 14:30:52,752 - imputation_RMSE on the test set: 0.46329760551452637\n",
            "2022-04-10 14:30:52,753 - imputation_MRE on the test set: 0.21201765537261963\n",
            "2022-04-10 14:30:52,754 - trainable parameter num: 8937936\n",
            "2022-04-10 14:30:52,763 - Start imputing all missing data in all train/val/test sets...\n",
            "2022-04-10 14:30:52,809 - Done saving all imputed data into /content/drive/MyDrive/SAITS_BATTERY/NIPS_results/Battery_SAITS_best_dataset4_08masked/Test_Result/imputations.h5.\n",
            "2022-04-10 14:30:52,810 - All Done.\n",
            "\u001b[0m"
          ]
        }
      ]
    }
  ]
}